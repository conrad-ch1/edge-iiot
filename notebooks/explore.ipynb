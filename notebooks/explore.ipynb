{
 "cells": [
  {
   "cell_type": "code",
   "execution_count": 1,
   "id": "ca78d2bc",
   "metadata": {},
   "outputs": [],
   "source": [
    "import numpy as np\n",
    "import pandas as pd\n",
    "import os\n",
    "import re\n",
    "import matplotlib.pyplot as plt\n",
    "import seaborn as sns\n",
    "from sklearn.ensemble import RandomForestClassifier\n",
    "from sklearn.preprocessing import OneHotEncoder, StandardScaler\n",
    "from sklearn.model_selection import train_test_split\n",
    "from sklearn.metrics import classification_report, confusion_matrix\n",
    "import xgboost as xgb\n",
    "import torch\n",
    "import torch.nn as nn\n",
    "from torch.utils.data import DataLoader, TensorDataset\n",
    "\n",
    "import sys\n",
    "sys.path.append(\"..\")"
   ]
  },
  {
   "cell_type": "markdown",
   "id": "a237de09",
   "metadata": {},
   "source": [
    "# Load data"
   ]
  },
  {
   "cell_type": "code",
   "execution_count": 2,
   "id": "13b1aaa0",
   "metadata": {},
   "outputs": [],
   "source": [
    "file_path = \"../data/DNN-EdgeIIoT-dataset.csv\""
   ]
  },
  {
   "cell_type": "code",
   "execution_count": 3,
   "id": "6cf1591a",
   "metadata": {},
   "outputs": [],
   "source": [
    "df = pd.read_csv(file_path, low_memory=False)"
   ]
  },
  {
   "cell_type": "code",
   "execution_count": 4,
   "id": "fedc3c5a",
   "metadata": {},
   "outputs": [
    {
     "data": {
      "text/plain": [
       "(2219201, 63)"
      ]
     },
     "execution_count": 4,
     "metadata": {},
     "output_type": "execute_result"
    }
   ],
   "source": [
    "df.shape"
   ]
  },
  {
   "cell_type": "code",
   "execution_count": 5,
   "id": "e21048fb",
   "metadata": {},
   "outputs": [
    {
     "data": {
      "application/vnd.microsoft.datawrangler.viewer.v0+json": {
       "columns": [
        {
         "name": "index",
         "rawType": "int64",
         "type": "integer"
        },
        {
         "name": "frame.time",
         "rawType": "object",
         "type": "string"
        },
        {
         "name": "ip.src_host",
         "rawType": "object",
         "type": "string"
        },
        {
         "name": "ip.dst_host",
         "rawType": "object",
         "type": "string"
        },
        {
         "name": "arp.dst.proto_ipv4",
         "rawType": "object",
         "type": "string"
        },
        {
         "name": "arp.opcode",
         "rawType": "float64",
         "type": "float"
        },
        {
         "name": "arp.hw.size",
         "rawType": "float64",
         "type": "float"
        },
        {
         "name": "arp.src.proto_ipv4",
         "rawType": "object",
         "type": "string"
        },
        {
         "name": "icmp.checksum",
         "rawType": "float64",
         "type": "float"
        },
        {
         "name": "icmp.seq_le",
         "rawType": "float64",
         "type": "float"
        },
        {
         "name": "icmp.transmit_timestamp",
         "rawType": "float64",
         "type": "float"
        },
        {
         "name": "icmp.unused",
         "rawType": "float64",
         "type": "float"
        },
        {
         "name": "http.file_data",
         "rawType": "object",
         "type": "string"
        },
        {
         "name": "http.content_length",
         "rawType": "float64",
         "type": "float"
        },
        {
         "name": "http.request.uri.query",
         "rawType": "object",
         "type": "string"
        },
        {
         "name": "http.request.method",
         "rawType": "object",
         "type": "string"
        },
        {
         "name": "http.referer",
         "rawType": "object",
         "type": "string"
        },
        {
         "name": "http.request.full_uri",
         "rawType": "object",
         "type": "string"
        },
        {
         "name": "http.request.version",
         "rawType": "object",
         "type": "string"
        },
        {
         "name": "http.response",
         "rawType": "float64",
         "type": "float"
        },
        {
         "name": "http.tls_port",
         "rawType": "float64",
         "type": "float"
        },
        {
         "name": "tcp.ack",
         "rawType": "float64",
         "type": "float"
        },
        {
         "name": "tcp.ack_raw",
         "rawType": "float64",
         "type": "float"
        },
        {
         "name": "tcp.checksum",
         "rawType": "float64",
         "type": "float"
        },
        {
         "name": "tcp.connection.fin",
         "rawType": "float64",
         "type": "float"
        },
        {
         "name": "tcp.connection.rst",
         "rawType": "float64",
         "type": "float"
        },
        {
         "name": "tcp.connection.syn",
         "rawType": "float64",
         "type": "float"
        },
        {
         "name": "tcp.connection.synack",
         "rawType": "float64",
         "type": "float"
        },
        {
         "name": "tcp.dstport",
         "rawType": "float64",
         "type": "float"
        },
        {
         "name": "tcp.flags",
         "rawType": "float64",
         "type": "float"
        },
        {
         "name": "tcp.flags.ack",
         "rawType": "float64",
         "type": "float"
        },
        {
         "name": "tcp.len",
         "rawType": "float64",
         "type": "float"
        },
        {
         "name": "tcp.options",
         "rawType": "object",
         "type": "string"
        },
        {
         "name": "tcp.payload",
         "rawType": "object",
         "type": "string"
        },
        {
         "name": "tcp.seq",
         "rawType": "float64",
         "type": "float"
        },
        {
         "name": "tcp.srcport",
         "rawType": "object",
         "type": "string"
        },
        {
         "name": "udp.port",
         "rawType": "float64",
         "type": "float"
        },
        {
         "name": "udp.stream",
         "rawType": "float64",
         "type": "float"
        },
        {
         "name": "udp.time_delta",
         "rawType": "float64",
         "type": "float"
        },
        {
         "name": "dns.qry.name",
         "rawType": "float64",
         "type": "float"
        },
        {
         "name": "dns.qry.name.len",
         "rawType": "object",
         "type": "string"
        },
        {
         "name": "dns.qry.qu",
         "rawType": "float64",
         "type": "float"
        },
        {
         "name": "dns.qry.type",
         "rawType": "float64",
         "type": "float"
        },
        {
         "name": "dns.retransmission",
         "rawType": "float64",
         "type": "float"
        },
        {
         "name": "dns.retransmit_request",
         "rawType": "float64",
         "type": "float"
        },
        {
         "name": "dns.retransmit_request_in",
         "rawType": "float64",
         "type": "float"
        },
        {
         "name": "mqtt.conack.flags",
         "rawType": "object",
         "type": "string"
        },
        {
         "name": "mqtt.conflag.cleansess",
         "rawType": "float64",
         "type": "float"
        },
        {
         "name": "mqtt.conflags",
         "rawType": "float64",
         "type": "float"
        },
        {
         "name": "mqtt.hdrflags",
         "rawType": "float64",
         "type": "float"
        },
        {
         "name": "mqtt.len",
         "rawType": "float64",
         "type": "float"
        },
        {
         "name": "mqtt.msg_decoded_as",
         "rawType": "float64",
         "type": "float"
        },
        {
         "name": "mqtt.msg",
         "rawType": "object",
         "type": "string"
        },
        {
         "name": "mqtt.msgtype",
         "rawType": "float64",
         "type": "float"
        },
        {
         "name": "mqtt.proto_len",
         "rawType": "float64",
         "type": "float"
        },
        {
         "name": "mqtt.protoname",
         "rawType": "object",
         "type": "string"
        },
        {
         "name": "mqtt.topic",
         "rawType": "object",
         "type": "string"
        },
        {
         "name": "mqtt.topic_len",
         "rawType": "float64",
         "type": "float"
        },
        {
         "name": "mqtt.ver",
         "rawType": "float64",
         "type": "float"
        },
        {
         "name": "mbtcp.len",
         "rawType": "float64",
         "type": "float"
        },
        {
         "name": "mbtcp.trans_id",
         "rawType": "float64",
         "type": "float"
        },
        {
         "name": "mbtcp.unit_id",
         "rawType": "float64",
         "type": "float"
        },
        {
         "name": "Attack_label",
         "rawType": "int64",
         "type": "integer"
        },
        {
         "name": "Attack_type",
         "rawType": "object",
         "type": "string"
        }
       ],
       "ref": "4423ec44-05d7-4bf7-a4cb-cb0a62f9e5cf",
       "rows": [
        [
         "0",
         " 2021 11:44:10.081753000 ",
         "192.168.0.128",
         "192.168.0.101",
         "0",
         "0.0",
         "0.0",
         "0",
         "0.0",
         "0.0",
         "0.0",
         "0.0",
         "0.0",
         "0.0",
         "0.0",
         "0.0",
         "0.0",
         "0.0",
         "0.0",
         "0.0",
         "0.0",
         "1.0",
         "3153345534.0",
         "47892.0",
         "0.0",
         "0.0",
         "0.0",
         "1.0",
         "64855.0",
         "18.0",
         "1.0",
         "0.0",
         "020405b40101040201030307",
         "0",
         "0.0",
         "1883.0",
         "0.0",
         "0.0",
         "0.0",
         "0.0",
         "0",
         "0.0",
         "0.0",
         "0.0",
         "0.0",
         "0.0",
         "0",
         "0.0",
         "0.0",
         "0.0",
         "0.0",
         "0.0",
         "0",
         "0.0",
         "0.0",
         "0",
         "0",
         "0.0",
         "0.0",
         "0.0",
         "0.0",
         "0.0",
         "0",
         "Normal"
        ],
        [
         "1",
         " 2021 11:44:10.162218000 ",
         "192.168.0.101",
         "192.168.0.128",
         "0",
         "0.0",
         "0.0",
         "0",
         "0.0",
         "0.0",
         "0.0",
         "0.0",
         "0.0",
         "0.0",
         "0.0",
         "0.0",
         "0.0",
         "0.0",
         "0.0",
         "0.0",
         "0.0",
         "1.0",
         "344794516.0",
         "16077.0",
         "0.0",
         "0.0",
         "0.0",
         "0.0",
         "1883.0",
         "24.0",
         "1.0",
         "14.0",
         "0",
         "100c00044d5154540402003c0000",
         "1.0",
         "64855.0",
         "0.0",
         "0.0",
         "0.0",
         "0.0",
         "0",
         "0.0",
         "0.0",
         "0.0",
         "0.0",
         "0.0",
         "0",
         "1.0",
         "2.0",
         "16.0",
         "12.0",
         "0.0",
         "0",
         "1.0",
         "4.0",
         "MQTT",
         "0",
         "0.0",
         "4.0",
         "0.0",
         "0.0",
         "0.0",
         "0",
         "Normal"
        ],
        [
         "2",
         " 2021 11:44:10.162271000 ",
         "192.168.0.128",
         "192.168.0.101",
         "0",
         "0.0",
         "0.0",
         "0",
         "0.0",
         "0.0",
         "0.0",
         "0.0",
         "0.0",
         "0.0",
         "0.0",
         "0.0",
         "0.0",
         "0.0",
         "0.0",
         "0.0",
         "0.0",
         "15.0",
         "3153345548.0",
         "62675.0",
         "0.0",
         "0.0",
         "0.0",
         "0.0",
         "64855.0",
         "16.0",
         "1.0",
         "0.0",
         "0",
         "0",
         "1.0",
         "1883.0",
         "0.0",
         "0.0",
         "0.0",
         "0.0",
         "0",
         "0.0",
         "0.0",
         "0.0",
         "0.0",
         "0.0",
         "0",
         "0.0",
         "0.0",
         "0.0",
         "0.0",
         "0.0",
         "0",
         "0.0",
         "0.0",
         "0",
         "0",
         "0.0",
         "0.0",
         "0.0",
         "0.0",
         "0.0",
         "0",
         "Normal"
        ],
        [
         "3",
         " 2021 11:44:10.162641000 ",
         "192.168.0.128",
         "192.168.0.101",
         "0",
         "0.0",
         "0.0",
         "0",
         "0.0",
         "0.0",
         "0.0",
         "0.0",
         "0.0",
         "0.0",
         "0.0",
         "0.0",
         "0.0",
         "0.0",
         "0.0",
         "0.0",
         "0.0",
         "15.0",
         "3153345548.0",
         "54469.0",
         "0.0",
         "0.0",
         "0.0",
         "0.0",
         "64855.0",
         "24.0",
         "1.0",
         "4.0",
         "0",
         "20020000",
         "1.0",
         "1883.0",
         "0.0",
         "0.0",
         "0.0",
         "0.0",
         "0",
         "0.0",
         "0.0",
         "0.0",
         "0.0",
         "0.0",
         "0x00000000",
         "0.0",
         "0.0",
         "32.0",
         "2.0",
         "0.0",
         "0",
         "2.0",
         "0.0",
         "0",
         "0",
         "0.0",
         "0.0",
         "0.0",
         "0.0",
         "0.0",
         "0",
         "Normal"
        ],
        [
         "4",
         " 2021 11:44:10.166132000 ",
         "192.168.0.101",
         "192.168.0.128",
         "0",
         "0.0",
         "0.0",
         "0",
         "0.0",
         "0.0",
         "0.0",
         "0.0",
         "0.0",
         "0.0",
         "0.0",
         "0.0",
         "0.0",
         "0.0",
         "0.0",
         "0.0",
         "0.0",
         "5.0",
         "344794520.0",
         "53812.0",
         "0.0",
         "0.0",
         "0.0",
         "0.0",
         "1883.0",
         "24.0",
         "1.0",
         "41.0",
         "0",
         "3027001854656d70657261747572655f616e645f48756d696469747932342e36382037362e34320d0a",
         "15.0",
         "64855.0",
         "0.0",
         "0.0",
         "0.0",
         "0.0",
         "0",
         "0.0",
         "0.0",
         "0.0",
         "0.0",
         "0.0",
         "0",
         "0.0",
         "0.0",
         "48.0",
         "39.0",
         "0.0",
         "32342e36382037362e34320d0a",
         "3.0",
         "0.0",
         "0",
         "Temperature_and_Humidity",
         "24.0",
         "0.0",
         "0.0",
         "0.0",
         "0.0",
         "0",
         "Normal"
        ]
       ],
       "shape": {
        "columns": 63,
        "rows": 5
       }
      },
      "text/html": [
       "<div>\n",
       "<style scoped>\n",
       "    .dataframe tbody tr th:only-of-type {\n",
       "        vertical-align: middle;\n",
       "    }\n",
       "\n",
       "    .dataframe tbody tr th {\n",
       "        vertical-align: top;\n",
       "    }\n",
       "\n",
       "    .dataframe thead th {\n",
       "        text-align: right;\n",
       "    }\n",
       "</style>\n",
       "<table border=\"1\" class=\"dataframe\">\n",
       "  <thead>\n",
       "    <tr style=\"text-align: right;\">\n",
       "      <th></th>\n",
       "      <th>frame.time</th>\n",
       "      <th>ip.src_host</th>\n",
       "      <th>ip.dst_host</th>\n",
       "      <th>arp.dst.proto_ipv4</th>\n",
       "      <th>arp.opcode</th>\n",
       "      <th>arp.hw.size</th>\n",
       "      <th>arp.src.proto_ipv4</th>\n",
       "      <th>icmp.checksum</th>\n",
       "      <th>icmp.seq_le</th>\n",
       "      <th>icmp.transmit_timestamp</th>\n",
       "      <th>...</th>\n",
       "      <th>mqtt.proto_len</th>\n",
       "      <th>mqtt.protoname</th>\n",
       "      <th>mqtt.topic</th>\n",
       "      <th>mqtt.topic_len</th>\n",
       "      <th>mqtt.ver</th>\n",
       "      <th>mbtcp.len</th>\n",
       "      <th>mbtcp.trans_id</th>\n",
       "      <th>mbtcp.unit_id</th>\n",
       "      <th>Attack_label</th>\n",
       "      <th>Attack_type</th>\n",
       "    </tr>\n",
       "  </thead>\n",
       "  <tbody>\n",
       "    <tr>\n",
       "      <th>0</th>\n",
       "      <td>2021 11:44:10.081753000</td>\n",
       "      <td>192.168.0.128</td>\n",
       "      <td>192.168.0.101</td>\n",
       "      <td>0</td>\n",
       "      <td>0.0</td>\n",
       "      <td>0.0</td>\n",
       "      <td>0</td>\n",
       "      <td>0.0</td>\n",
       "      <td>0.0</td>\n",
       "      <td>0.0</td>\n",
       "      <td>...</td>\n",
       "      <td>0.0</td>\n",
       "      <td>0</td>\n",
       "      <td>0</td>\n",
       "      <td>0.0</td>\n",
       "      <td>0.0</td>\n",
       "      <td>0.0</td>\n",
       "      <td>0.0</td>\n",
       "      <td>0.0</td>\n",
       "      <td>0</td>\n",
       "      <td>Normal</td>\n",
       "    </tr>\n",
       "    <tr>\n",
       "      <th>1</th>\n",
       "      <td>2021 11:44:10.162218000</td>\n",
       "      <td>192.168.0.101</td>\n",
       "      <td>192.168.0.128</td>\n",
       "      <td>0</td>\n",
       "      <td>0.0</td>\n",
       "      <td>0.0</td>\n",
       "      <td>0</td>\n",
       "      <td>0.0</td>\n",
       "      <td>0.0</td>\n",
       "      <td>0.0</td>\n",
       "      <td>...</td>\n",
       "      <td>4.0</td>\n",
       "      <td>MQTT</td>\n",
       "      <td>0</td>\n",
       "      <td>0.0</td>\n",
       "      <td>4.0</td>\n",
       "      <td>0.0</td>\n",
       "      <td>0.0</td>\n",
       "      <td>0.0</td>\n",
       "      <td>0</td>\n",
       "      <td>Normal</td>\n",
       "    </tr>\n",
       "    <tr>\n",
       "      <th>2</th>\n",
       "      <td>2021 11:44:10.162271000</td>\n",
       "      <td>192.168.0.128</td>\n",
       "      <td>192.168.0.101</td>\n",
       "      <td>0</td>\n",
       "      <td>0.0</td>\n",
       "      <td>0.0</td>\n",
       "      <td>0</td>\n",
       "      <td>0.0</td>\n",
       "      <td>0.0</td>\n",
       "      <td>0.0</td>\n",
       "      <td>...</td>\n",
       "      <td>0.0</td>\n",
       "      <td>0</td>\n",
       "      <td>0</td>\n",
       "      <td>0.0</td>\n",
       "      <td>0.0</td>\n",
       "      <td>0.0</td>\n",
       "      <td>0.0</td>\n",
       "      <td>0.0</td>\n",
       "      <td>0</td>\n",
       "      <td>Normal</td>\n",
       "    </tr>\n",
       "    <tr>\n",
       "      <th>3</th>\n",
       "      <td>2021 11:44:10.162641000</td>\n",
       "      <td>192.168.0.128</td>\n",
       "      <td>192.168.0.101</td>\n",
       "      <td>0</td>\n",
       "      <td>0.0</td>\n",
       "      <td>0.0</td>\n",
       "      <td>0</td>\n",
       "      <td>0.0</td>\n",
       "      <td>0.0</td>\n",
       "      <td>0.0</td>\n",
       "      <td>...</td>\n",
       "      <td>0.0</td>\n",
       "      <td>0</td>\n",
       "      <td>0</td>\n",
       "      <td>0.0</td>\n",
       "      <td>0.0</td>\n",
       "      <td>0.0</td>\n",
       "      <td>0.0</td>\n",
       "      <td>0.0</td>\n",
       "      <td>0</td>\n",
       "      <td>Normal</td>\n",
       "    </tr>\n",
       "    <tr>\n",
       "      <th>4</th>\n",
       "      <td>2021 11:44:10.166132000</td>\n",
       "      <td>192.168.0.101</td>\n",
       "      <td>192.168.0.128</td>\n",
       "      <td>0</td>\n",
       "      <td>0.0</td>\n",
       "      <td>0.0</td>\n",
       "      <td>0</td>\n",
       "      <td>0.0</td>\n",
       "      <td>0.0</td>\n",
       "      <td>0.0</td>\n",
       "      <td>...</td>\n",
       "      <td>0.0</td>\n",
       "      <td>0</td>\n",
       "      <td>Temperature_and_Humidity</td>\n",
       "      <td>24.0</td>\n",
       "      <td>0.0</td>\n",
       "      <td>0.0</td>\n",
       "      <td>0.0</td>\n",
       "      <td>0.0</td>\n",
       "      <td>0</td>\n",
       "      <td>Normal</td>\n",
       "    </tr>\n",
       "  </tbody>\n",
       "</table>\n",
       "<p>5 rows × 63 columns</p>\n",
       "</div>"
      ],
      "text/plain": [
       "                  frame.time    ip.src_host    ip.dst_host arp.dst.proto_ipv4  \\\n",
       "0   2021 11:44:10.081753000   192.168.0.128  192.168.0.101                  0   \n",
       "1   2021 11:44:10.162218000   192.168.0.101  192.168.0.128                  0   \n",
       "2   2021 11:44:10.162271000   192.168.0.128  192.168.0.101                  0   \n",
       "3   2021 11:44:10.162641000   192.168.0.128  192.168.0.101                  0   \n",
       "4   2021 11:44:10.166132000   192.168.0.101  192.168.0.128                  0   \n",
       "\n",
       "   arp.opcode  arp.hw.size arp.src.proto_ipv4  icmp.checksum  icmp.seq_le  \\\n",
       "0         0.0          0.0                  0            0.0          0.0   \n",
       "1         0.0          0.0                  0            0.0          0.0   \n",
       "2         0.0          0.0                  0            0.0          0.0   \n",
       "3         0.0          0.0                  0            0.0          0.0   \n",
       "4         0.0          0.0                  0            0.0          0.0   \n",
       "\n",
       "   icmp.transmit_timestamp  ...  mqtt.proto_len mqtt.protoname  \\\n",
       "0                      0.0  ...             0.0              0   \n",
       "1                      0.0  ...             4.0           MQTT   \n",
       "2                      0.0  ...             0.0              0   \n",
       "3                      0.0  ...             0.0              0   \n",
       "4                      0.0  ...             0.0              0   \n",
       "\n",
       "                 mqtt.topic mqtt.topic_len mqtt.ver mbtcp.len mbtcp.trans_id  \\\n",
       "0                         0            0.0      0.0       0.0            0.0   \n",
       "1                         0            0.0      4.0       0.0            0.0   \n",
       "2                         0            0.0      0.0       0.0            0.0   \n",
       "3                         0            0.0      0.0       0.0            0.0   \n",
       "4  Temperature_and_Humidity           24.0      0.0       0.0            0.0   \n",
       "\n",
       "  mbtcp.unit_id  Attack_label  Attack_type  \n",
       "0           0.0             0       Normal  \n",
       "1           0.0             0       Normal  \n",
       "2           0.0             0       Normal  \n",
       "3           0.0             0       Normal  \n",
       "4           0.0             0       Normal  \n",
       "\n",
       "[5 rows x 63 columns]"
      ]
     },
     "execution_count": 5,
     "metadata": {},
     "output_type": "execute_result"
    }
   ],
   "source": [
    "df.head()"
   ]
  },
  {
   "cell_type": "markdown",
   "id": "72f27851",
   "metadata": {},
   "source": [
    "# Data exploration and processing"
   ]
  },
  {
   "cell_type": "code",
   "execution_count": 6,
   "id": "bedd3da2",
   "metadata": {},
   "outputs": [
    {
     "data": {
      "application/vnd.microsoft.datawrangler.viewer.v0+json": {
       "columns": [
        {
         "name": "index",
         "rawType": "object",
         "type": "string"
        },
        {
         "name": "0",
         "rawType": "int64",
         "type": "integer"
        }
       ],
       "ref": "aceb90a8-f313-4f14-a264-b01d838af30a",
       "rows": [
        [
         "frame.time",
         "0"
        ],
        [
         "ip.src_host",
         "0"
        ],
        [
         "ip.dst_host",
         "0"
        ],
        [
         "arp.dst.proto_ipv4",
         "0"
        ],
        [
         "arp.opcode",
         "0"
        ],
        [
         "arp.hw.size",
         "0"
        ],
        [
         "arp.src.proto_ipv4",
         "0"
        ],
        [
         "icmp.checksum",
         "0"
        ],
        [
         "icmp.seq_le",
         "0"
        ],
        [
         "icmp.transmit_timestamp",
         "0"
        ],
        [
         "icmp.unused",
         "0"
        ],
        [
         "http.file_data",
         "0"
        ],
        [
         "http.content_length",
         "0"
        ],
        [
         "http.request.uri.query",
         "0"
        ],
        [
         "http.request.method",
         "0"
        ],
        [
         "http.referer",
         "0"
        ],
        [
         "http.request.full_uri",
         "0"
        ],
        [
         "http.request.version",
         "0"
        ],
        [
         "http.response",
         "0"
        ],
        [
         "http.tls_port",
         "0"
        ],
        [
         "tcp.ack",
         "0"
        ],
        [
         "tcp.ack_raw",
         "0"
        ],
        [
         "tcp.checksum",
         "0"
        ],
        [
         "tcp.connection.fin",
         "0"
        ],
        [
         "tcp.connection.rst",
         "0"
        ],
        [
         "tcp.connection.syn",
         "0"
        ],
        [
         "tcp.connection.synack",
         "0"
        ],
        [
         "tcp.dstport",
         "0"
        ],
        [
         "tcp.flags",
         "0"
        ],
        [
         "tcp.flags.ack",
         "0"
        ],
        [
         "tcp.len",
         "0"
        ],
        [
         "tcp.options",
         "0"
        ],
        [
         "tcp.payload",
         "0"
        ],
        [
         "tcp.seq",
         "0"
        ],
        [
         "tcp.srcport",
         "0"
        ],
        [
         "udp.port",
         "0"
        ],
        [
         "udp.stream",
         "0"
        ],
        [
         "udp.time_delta",
         "0"
        ],
        [
         "dns.qry.name",
         "0"
        ],
        [
         "dns.qry.name.len",
         "0"
        ],
        [
         "dns.qry.qu",
         "0"
        ],
        [
         "dns.qry.type",
         "0"
        ],
        [
         "dns.retransmission",
         "0"
        ],
        [
         "dns.retransmit_request",
         "0"
        ],
        [
         "dns.retransmit_request_in",
         "0"
        ],
        [
         "mqtt.conack.flags",
         "0"
        ],
        [
         "mqtt.conflag.cleansess",
         "0"
        ],
        [
         "mqtt.conflags",
         "0"
        ],
        [
         "mqtt.hdrflags",
         "0"
        ],
        [
         "mqtt.len",
         "0"
        ]
       ],
       "shape": {
        "columns": 1,
        "rows": 63
       }
      },
      "text/plain": [
       "frame.time            0\n",
       "ip.src_host           0\n",
       "ip.dst_host           0\n",
       "arp.dst.proto_ipv4    0\n",
       "arp.opcode            0\n",
       "                     ..\n",
       "mbtcp.len             0\n",
       "mbtcp.trans_id        0\n",
       "mbtcp.unit_id         0\n",
       "Attack_label          0\n",
       "Attack_type           0\n",
       "Length: 63, dtype: int64"
      ]
     },
     "execution_count": 6,
     "metadata": {},
     "output_type": "execute_result"
    }
   ],
   "source": [
    "# Check for missing values\n",
    "df.isna().sum()"
   ]
  },
  {
   "cell_type": "code",
   "execution_count": 7,
   "id": "f01e864f",
   "metadata": {},
   "outputs": [
    {
     "data": {
      "text/plain": [
       "np.int64(815)"
      ]
     },
     "execution_count": 7,
     "metadata": {},
     "output_type": "execute_result"
    }
   ],
   "source": [
    "# Check for duplicate rows\n",
    "df.duplicated().sum()"
   ]
  },
  {
   "cell_type": "code",
   "execution_count": null,
   "id": "08235fb0",
   "metadata": {},
   "outputs": [],
   "source": [
    "# Drop duplicate rows\n",
    "df.drop_duplicates(subset=None, keep=\"first\", inplace=True)\n",
    "df.reset_index(drop=True, inplace=True)\n",
    "df.shape"
   ]
  },
  {
   "cell_type": "code",
   "execution_count": null,
   "id": "cd0eef6e",
   "metadata": {},
   "outputs": [],
   "source": [
    "# Check the cardinality of features\n",
    "df.nunique()"
   ]
  },
  {
   "cell_type": "code",
   "execution_count": null,
   "id": "335d81e7",
   "metadata": {},
   "outputs": [],
   "source": [
    "# Drop columns with only one unique value\n",
    "cols_one_unique_val = df.nunique()[df.nunique() == 1].index.tolist()\n",
    "df.drop(columns=cols_one_unique_val, inplace=True)\n",
    "df.shape"
   ]
  },
  {
   "cell_type": "code",
   "execution_count": null,
   "id": "23d02265",
   "metadata": {},
   "outputs": [],
   "source": [
    "df.columns"
   ]
  },
  {
   "cell_type": "code",
   "execution_count": null,
   "id": "3f93c758",
   "metadata": {},
   "outputs": [],
   "source": [
    "# Drop timestamps; drop IP addresses and ports for better generalization\n",
    "df.drop(\n",
    "    columns=[\n",
    "        \"frame.time\", \"icmp.transmit_timestamp\", \"ip.src_host\", \"ip.dst_host\",\n",
    "        \"arp.src.proto_ipv4\", \"arp.dst.proto_ipv4\", \"tcp.srcport\", \"tcp.dstport\",\n",
    "        \"udp.port\"\n",
    "    ],\n",
    "    inplace=True\n",
    ")\n",
    "df.shape"
   ]
  },
  {
   "cell_type": "code",
   "execution_count": null,
   "id": "935787c6",
   "metadata": {},
   "outputs": [],
   "source": [
    "# Additional features to drop: not useful for classification or way too complex\n",
    "# (e.g., large text fields, complex structures, noise)\n",
    "df = df.drop(\n",
    "    columns=[\n",
    "        \"http.file_data\", \"http.request.uri.query\", \"http.request.full_uri\",\n",
    "        \"tcp.payload\", \"tcp.options\", \"mqtt.msg\"\n",
    "    ]\n",
    ")\n",
    "df.shape"
   ]
  },
  {
   "cell_type": "code",
   "execution_count": null,
   "id": "88174988",
   "metadata": {},
   "outputs": [],
   "source": [
    "df.head()"
   ]
  },
  {
   "cell_type": "code",
   "execution_count": null,
   "id": "34e7a06a",
   "metadata": {},
   "outputs": [],
   "source": [
    "# Check data types of features\n",
    "df.dtypes"
   ]
  },
  {
   "cell_type": "markdown",
   "id": "547ee4aa",
   "metadata": {},
   "source": [
    "# Check class distribution"
   ]
  },
  {
   "cell_type": "code",
   "execution_count": null,
   "id": "d8a749c5",
   "metadata": {},
   "outputs": [],
   "source": [
    "vc_labels = df[\"Attack_label\"].value_counts()\n",
    "plt.figure(figsize=(15, 5))\n",
    "sns.barplot(\n",
    "    x=vc_labels.index,\n",
    "    y=vc_labels.values,\n",
    "    hue=vc_labels.index, palette=\"Set2\",\n",
    "    edgecolor=\"black\"\n",
    ")\n",
    "for label in vc_labels.index:\n",
    "    plt.text(\n",
    "        x=label, \n",
    "        y=vc_labels[label] + 5,\n",
    "        s=str(vc_labels[label]),\n",
    "        ha='center', va='bottom'\n",
    "    )\n",
    "plt.title(\"Distribution of Attack Labels\")\n",
    "plt.xlabel(\"Attack Label\")\n",
    "plt.ylabel(\"Count\")\n",
    "plt.xticks(rotation=45)\n",
    "plt.show()"
   ]
  },
  {
   "cell_type": "code",
   "execution_count": null,
   "id": "986dd2da",
   "metadata": {},
   "outputs": [],
   "source": [
    "vc_attack_types = df[\"Attack_type\"].value_counts()\n",
    "plt.figure(figsize=(15, 5))\n",
    "sns.barplot(\n",
    "    x=vc_attack_types.index,\n",
    "    y=vc_attack_types.values,\n",
    "    hue=vc_attack_types.index, palette=\"Set2\",\n",
    "    edgecolor=\"black\"\n",
    ")\n",
    "for label in vc_attack_types.index:\n",
    "    plt.text(\n",
    "        x=label, \n",
    "        y=vc_attack_types[label] + 5,\n",
    "        s=str(vc_attack_types[label]),\n",
    "        ha='center', va='bottom'\n",
    "    )\n",
    "plt.title(\"Distribution of Attack Types\")\n",
    "plt.xlabel(\"Attack Type\")\n",
    "plt.ylabel(\"Count\")\n",
    "plt.xticks(rotation=90)\n",
    "plt.show()"
   ]
  },
  {
   "cell_type": "code",
   "execution_count": null,
   "id": "02ad3cda",
   "metadata": {},
   "outputs": [],
   "source": [
    "vc_attack_types_normalized = df[\"Attack_type\"].value_counts(normalize=True)\n",
    "plt.figure(figsize=(15, 5))\n",
    "sns.barplot(\n",
    "    x=vc_attack_types_normalized.index,\n",
    "    y=vc_attack_types_normalized.values,\n",
    "    hue=vc_attack_types_normalized.index, palette=\"Set2\",\n",
    "    edgecolor=\"black\"\n",
    ")\n",
    "for label in vc_attack_types_normalized.index:\n",
    "    plt.text(\n",
    "        x=label, \n",
    "        y=vc_attack_types_normalized[label] + 0.01,\n",
    "        s=f\"{vc_attack_types_normalized[label]:.2%}\",\n",
    "        ha='center', va='bottom'\n",
    "    )\n",
    "plt.title(\"Normalized Distribution of Attack Types\")\n",
    "plt.xlabel(\"Attack Type\")\n",
    "plt.ylabel(\"Normalized Count\")\n",
    "plt.xticks(rotation=90)\n",
    "plt.show()"
   ]
  },
  {
   "cell_type": "markdown",
   "id": "aa0ed931",
   "metadata": {},
   "source": [
    "# Feature engineering"
   ]
  },
  {
   "cell_type": "code",
   "execution_count": null,
   "id": "1f8ff9b1",
   "metadata": {},
   "outputs": [],
   "source": [
    "y_binary = df.pop(\"Attack_label\")\n",
    "y_multi = df.pop(\"Attack_type\")\n",
    "X = df.copy()"
   ]
  },
  {
   "cell_type": "code",
   "execution_count": null,
   "id": "3e96979a",
   "metadata": {},
   "outputs": [],
   "source": [
    "X.dtypes"
   ]
  },
  {
   "cell_type": "code",
   "execution_count": null,
   "id": "20ac1164",
   "metadata": {},
   "outputs": [],
   "source": [
    "# Separate numerical and categorical features for further analysis\n",
    "num_features_df = X.select_dtypes(include=[np.number])\n",
    "cat_features_df = X.select_dtypes(exclude=[np.number])"
   ]
  },
  {
   "cell_type": "code",
   "execution_count": null,
   "id": "98a4365a",
   "metadata": {},
   "outputs": [],
   "source": [
    "cat_features_df.head()"
   ]
  },
  {
   "cell_type": "code",
   "execution_count": null,
   "id": "2f24fece",
   "metadata": {},
   "outputs": [],
   "source": [
    "# Check most frequent values in categorical features\n",
    "for col in cat_features_df.columns:\n",
    "    print(cat_features_df[col].value_counts().head(10))\n",
    "    print(\"\\n\\n\")"
   ]
  },
  {
   "cell_type": "code",
   "execution_count": null,
   "id": "d71473ac",
   "metadata": {},
   "outputs": [],
   "source": [
    "# Replace 0.0 and 0 with \"unknown\" in categorical features\n",
    "cat_features_df = cat_features_df.copy()\n",
    "for col in cat_features_df.columns:\n",
    "    cat_features_df[col] = cat_features_df[col].replace([\"0.0\", \"0\"], \"unknown\")"
   ]
  },
  {
   "cell_type": "code",
   "execution_count": null,
   "id": "ba663c3c",
   "metadata": {},
   "outputs": [],
   "source": [
    "cat_features_df.head(50)"
   ]
  },
  {
   "cell_type": "code",
   "execution_count": null,
   "id": "0348448d",
   "metadata": {},
   "outputs": [],
   "source": [
    "# One-hot encoding of categorical features\n",
    "encoder = OneHotEncoder(sparse_output=False, handle_unknown='ignore')\n",
    "encoded_cat_features = encoder.fit_transform(cat_features_df)\n",
    "\n",
    "# Convert encoded features back to DataFrame\n",
    "encoded_cat_features_df = pd.DataFrame(\n",
    "    encoded_cat_features,\n",
    "    columns=encoder.get_feature_names_out(cat_features_df.columns),\n",
    "    index=cat_features_df.index\n",
    ")"
   ]
  },
  {
   "cell_type": "code",
   "execution_count": null,
   "id": "d89d13f8",
   "metadata": {},
   "outputs": [],
   "source": [
    "encoded_cat_features_df.head()"
   ]
  },
  {
   "cell_type": "code",
   "execution_count": null,
   "id": "7b93efad",
   "metadata": {},
   "outputs": [],
   "source": [
    "# Replace special characters in column names (as xgboost does not like them)\n",
    "regex = re.compile(r\"[\\[\\]<>]\")\n",
    "encoded_cat_features_df.columns = [\n",
    "    regex.sub(\"_\", col) if any(x in str(col) for x in set((\"[\", \"]\", \"<\"))) else col\n",
    "    for col in encoded_cat_features_df.columns.values\n",
    "]"
   ]
  },
  {
   "cell_type": "code",
   "execution_count": null,
   "id": "ce21350b",
   "metadata": {},
   "outputs": [],
   "source": [
    "# Merge numerical and encoded categorical features back\n",
    "X = pd.concat([num_features_df, encoded_cat_features_df], axis=1)\n",
    "X.shape"
   ]
  },
  {
   "cell_type": "markdown",
   "id": "259b5d80",
   "metadata": {},
   "source": [
    "# Train-test split binary"
   ]
  },
  {
   "cell_type": "code",
   "execution_count": null,
   "id": "ece2ad2b",
   "metadata": {},
   "outputs": [],
   "source": [
    "# Split the dataset into training and test sets\n",
    "X_train, X_test, y_train_binary, y_test_binary = train_test_split(\n",
    "    X, y_binary, test_size=0.2, random_state=42, stratify=y_binary\n",
    ")"
   ]
  },
  {
   "cell_type": "markdown",
   "id": "7ca54ec1",
   "metadata": {},
   "source": [
    "# Binary classification with Random Forest"
   ]
  },
  {
   "cell_type": "code",
   "execution_count": null,
   "id": "75fbc9a6",
   "metadata": {},
   "outputs": [],
   "source": [
    "# # Ranom Forest Classifier\n",
    "# rf_classifier = RandomForestClassifier(random_state=42)\n",
    "# rf_classifier.fit(X_train, y_train_binary)"
   ]
  },
  {
   "cell_type": "code",
   "execution_count": null,
   "id": "95710713",
   "metadata": {},
   "outputs": [],
   "source": [
    "# y_pred_binary = rf_classifier.predict(X_test)\n",
    "\n",
    "# print(classification_report(y_test_binary, y_pred_binary))"
   ]
  },
  {
   "cell_type": "code",
   "execution_count": null,
   "id": "19975f04",
   "metadata": {},
   "outputs": [],
   "source": [
    "# sns.heatmap(\n",
    "#     confusion_matrix(y_test_binary, y_pred_binary),\n",
    "#     annot=True, fmt='d', cmap='Blues',\n",
    "#     xticklabels=rf_classifier.classes_,\n",
    "#     yticklabels=rf_classifier.classes_\n",
    "# )\n",
    "# plt.title(\"Confusion Matrix - Random Forest Classifier\")\n",
    "# plt.xlabel(\"Predicted\")\n",
    "# plt.ylabel(\"Actual\")\n",
    "# plt.show()"
   ]
  },
  {
   "cell_type": "code",
   "execution_count": null,
   "id": "5211f2d6",
   "metadata": {},
   "outputs": [],
   "source": [
    "# # Plot feature importances\n",
    "# rf_feature_importances = rf_classifier.feature_importances_.argsort()[::-1][:15]\n",
    "# plt.figure(figsize=(15, 5))\n",
    "# plt.bar(range(len(rf_feature_importances)), rf_classifier.feature_importances_[rf_feature_importances], align=\"center\")\n",
    "# plt.xticks(range(len(rf_feature_importances)), X_train.columns[rf_feature_importances], rotation=90)\n",
    "# plt.title(\"Random Forest Classifier - Feature Importances\")\n",
    "# plt.show()"
   ]
  },
  {
   "cell_type": "markdown",
   "id": "84ceeb06",
   "metadata": {},
   "source": [
    "# Binary classification with XGBoost"
   ]
  },
  {
   "cell_type": "code",
   "execution_count": null,
   "id": "c44435a7",
   "metadata": {},
   "outputs": [],
   "source": [
    "# # XGBoost Classifier\n",
    "# xgb_classifier = xgb.XGBClassifier(random_state=42)\n",
    "# xgb_classifier.fit(X_train, y_train_binary)"
   ]
  },
  {
   "cell_type": "code",
   "execution_count": null,
   "id": "b60d42d5",
   "metadata": {},
   "outputs": [],
   "source": [
    "# y_pred_binary = xgb_classifier.predict(X_test)\n",
    "\n",
    "# print(classification_report(y_test_binary, y_pred_binary))"
   ]
  },
  {
   "cell_type": "code",
   "execution_count": null,
   "id": "d2e5d534",
   "metadata": {},
   "outputs": [],
   "source": [
    "# sns.heatmap(\n",
    "#     confusion_matrix(y_test_binary, y_pred_binary),\n",
    "#     annot=True, fmt='d', cmap='Blues',\n",
    "#     xticklabels=xgb_classifier.classes_,\n",
    "#     yticklabels=xgb_classifier.classes_\n",
    "# )\n",
    "# plt.title(\"Confusion Matrix - XGBoost Classifier\")\n",
    "# plt.xlabel(\"Predicted\")\n",
    "# plt.ylabel(\"Actual\")\n",
    "# plt.show()"
   ]
  },
  {
   "cell_type": "code",
   "execution_count": null,
   "id": "b306d113",
   "metadata": {},
   "outputs": [],
   "source": [
    "# # Plot feature importances\n",
    "# xgb_feature_importances = xgb_classifier.feature_importances_.argsort()[::-1][:15]\n",
    "# plt.figure(figsize=(15, 5))\n",
    "# plt.bar(range(len(xgb_feature_importances)), xgb_classifier.feature_importances_[xgb_feature_importances], align=\"center\")\n",
    "# plt.xticks(range(len(xgb_feature_importances)), X_train.columns[xgb_feature_importances], rotation=90)\n",
    "# plt.title(\"XGBoost Classifier - Feature Importances\")\n",
    "# plt.show()"
   ]
  },
  {
   "cell_type": "markdown",
   "id": "c76ef28a",
   "metadata": {},
   "source": [
    "# Train-test split multi"
   ]
  },
  {
   "cell_type": "code",
   "execution_count": null,
   "id": "ae804648",
   "metadata": {},
   "outputs": [],
   "source": [
    "# Encoding categorical features for multi-class classification\n",
    "encoder_multi = OneHotEncoder(sparse_output=False, handle_unknown='ignore')\n",
    "y_multi_encoded = encoder_multi.fit_transform(y_multi.values.reshape(-1, 1))\n",
    "\n",
    "# Train-test split for multi-class classification\n",
    "X_train, X_test, y_train_multi, y_test_multi = train_test_split(\n",
    "    X, y_multi_encoded, test_size=0.2, random_state=42, stratify=y_multi_encoded\n",
    ")\n"
   ]
  },
  {
   "cell_type": "code",
   "execution_count": null,
   "id": "54e6c63d",
   "metadata": {},
   "outputs": [],
   "source": [
    "# XGBoost Classifier for multi-class classification\n",
    "n_classes = y_multi.nunique()\n",
    "xgb_classifier_multi = xgb.XGBClassifier(objective='multi:softmax', num_class=n_classes, random_state=42)\n",
    "xgb_classifier_multi.fit(X_train, y_train_multi)\n",
    "y_pred_multi = xgb_classifier_multi.predict(X_test)"
   ]
  },
  {
   "cell_type": "code",
   "execution_count": null,
   "id": "698f2a15",
   "metadata": {},
   "outputs": [],
   "source": [
    "# Evaluate the multi-class classification model\n",
    "print(classification_report(y_test_multi, y_pred_multi, target_names=encoder_multi.categories_[0].tolist()))"
   ]
  }
 ],
 "metadata": {
  "kernelspec": {
   "display_name": "edge-iiot (3.12.11)",
   "language": "python",
   "name": "python3"
  },
  "language_info": {
   "codemirror_mode": {
    "name": "ipython",
    "version": 3
   },
   "file_extension": ".py",
   "mimetype": "text/x-python",
   "name": "python",
   "nbconvert_exporter": "python",
   "pygments_lexer": "ipython3",
   "version": "3.12.11"
  }
 },
 "nbformat": 4,
 "nbformat_minor": 5
}
